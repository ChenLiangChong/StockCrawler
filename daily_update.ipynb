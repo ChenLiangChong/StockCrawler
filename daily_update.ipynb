{
 "cells": [
  {
   "cell_type": "code",
   "execution_count": 34,
   "metadata": {},
   "outputs": [
    {
     "name": "stdout",
     "output_type": "stream",
     "text": [
      "                                                                           \\\n",
      "2  外資  105921  133922  174662823  571669  50140  122247  58709742  356533   \n",
      "\n",
      "                                    \n",
      "2  55781  11675  115953081  215136  \n",
      "               2       3          4       5      6       7         8       9   \\\n",
      "14                                                                              \n",
      "2019/9/23  105921  133922  174662823  571669  50140  122247  58709742  356533   \n",
      "\n",
      "              10     11         12      13  \n",
      "14                                          \n",
      "2019/9/23  55781  11675  115953081  215136  \n"
     ]
    },
    {
     "name": "stderr",
     "output_type": "stream",
     "text": [
      "C:\\ProgramData\\Anaconda3\\lib\\site-packages\\ipykernel_launcher.py:28: SettingWithCopyWarning: \n",
      "A value is trying to be set on a copy of a slice from a DataFrame.\n",
      "Try using .loc[row_indexer,col_indexer] = value instead\n",
      "\n",
      "See the caveats in the documentation: http://pandas.pydata.org/pandas-docs/stable/indexing.html#indexing-view-versus-copy\n"
     ]
    },
    {
     "name": "stdout",
     "output_type": "stream",
     "text": [
      "                                                                           \\\n",
      "2  外資  107830  125839  177563552  565627  46214  109762  57537042  344930   \n",
      "\n",
      "                                    \n",
      "2  61616  16077  120026510  220697  \n",
      "               2       3          4       5      6       7         8       9   \\\n",
      "14                                                                              \n",
      "2019/9/20  107830  125839  177563552  565627  46214  109762  57537042  344930   \n",
      "\n",
      "              10     11         12      13  \n",
      "14                                          \n",
      "2019/9/20  61616  16077  120026510  220697  \n",
      "                                                                          \\\n",
      "2  外資  101272  114636  169728933  529950  44189  98731  57822511  344496   \n",
      "\n",
      "                                    \n",
      "2  57083  15905  111906422  185454  \n",
      "               2       3          4       5      6      7         8       9   \\\n",
      "14                                                                             \n",
      "2019/9/19  101272  114636  169728933  529950  44189  98731  57822511  344496   \n",
      "\n",
      "              10     11         12      13  \n",
      "14                                          \n",
      "2019/9/19  57083  15905  111906422  185454  \n",
      "                                                                         \\\n",
      "2  外資  101053  99896  171414091  504705  34233  72300  47624296  293722   \n",
      "\n",
      "                                    \n",
      "2  66820  27596  123789795  210983  \n",
      "               2      3          4       5      6      7         8       9   \\\n",
      "14                                                                            \n",
      "2019/9/18  101053  99896  171414091  504705  34233  72300  47624296  293722   \n",
      "\n",
      "              10     11         12      13  \n",
      "14                                          \n",
      "2019/9/18  66820  27596  123789795  210983  \n",
      "                                                                            \\\n",
      "2  外資  138457  215018  240083655  891938  70910  176724  110496424  614836   \n",
      "\n",
      "                                    \n",
      "2  67547  38294  129587231  277102  \n",
      "               2       3          4       5      6       7          8   \\\n",
      "14                                                                       \n",
      "2019/9/17  138457  215018  240083655  891938  70910  176724  110496424   \n",
      "\n",
      "               9      10     11         12      13  \n",
      "14                                                  \n",
      "2019/9/17  614836  67547  38294  129587231  277102  \n"
     ]
    }
   ],
   "source": [
    "import datetime\n",
    "import requests\n",
    "from io import StringIO\n",
    "import pandas as pd\n",
    "Today = datetime.date.today()\n",
    "time_f = Today.strftime(\"%Y%m%d\")\n",
    "df_final = pd.DataFrame(columns=[2,3,4,5,6,7,8,9,10,11,12,13])\n",
    "for i in range(7):\n",
    "    Day = Today - datetime.timedelta(days = i)\n",
    "    time_y = int(Day.strftime(\"%Y\"))\n",
    "    time_m = int(Day.strftime(\"%m\"))\n",
    "    time_d = int(Day.strftime(\"%d\"))\n",
    "    payload ={\n",
    "    'queryType': '1',\n",
    "    'doQuery': '1',\n",
    "    'queryDate': str(time_y)+\"/\"+str(time_m)+\"/\"+str(time_d),\n",
    "    }\n",
    "    #print(payload)\n",
    "    r = requests.post('https://www.taifex.com.tw/cht/3/futAndOptDate' , data = payload)\n",
    "    r.encoding = 'utf-8'\n",
    "    dfs = pd.read_html(StringIO(r.text))\n",
    "    try:\n",
    "        dfs[5:6][0].columns = ['']*len(dfs[5:6][0].columns)\n",
    "        df = dfs[5:6][0][2:3]\n",
    "        #print(df)\n",
    "        \n",
    "        df.columns=[1,2,3,4,5,6,7,8,9,10,11,12,13]\n",
    "        df[14] = str(time_y)+'/'+str(time_m)+'/'+str(time_d)\n",
    "        df1 = df[[2,3,4,5,6,7,8,9,10,11,12,13,14]]\n",
    "        df1 = df1.set_index(14)\n",
    "        #print(df1)\n",
    "        df_final = df_final.append(df1)\n",
    "    except:\n",
    "        pass\n",
    "df_final = df_final.iloc[::-1]\n",
    "df_final.to_csv(time_f+'.csv')"
   ]
  },
  {
   "cell_type": "code",
   "execution_count": 19,
   "metadata": {},
   "outputs": [
    {
     "data": {
      "text/plain": [
       "'2019/09/17'"
      ]
     },
     "execution_count": 19,
     "metadata": {},
     "output_type": "execute_result"
    }
   ],
   "source": [
    "str(time_y)+'/'+Mounth+'/'+str(Day)"
   ]
  },
  {
   "cell_type": "code",
   "execution_count": 18,
   "metadata": {},
   "outputs": [
    {
     "ename": "NameError",
     "evalue": "name 'y' is not defined",
     "output_type": "error",
     "traceback": [
      "\u001b[1;31m---------------------------------------------------------------------------\u001b[0m",
      "\u001b[1;31mNameError\u001b[0m                                 Traceback (most recent call last)",
      "\u001b[1;32m<ipython-input-18-b27770b9d911>\u001b[0m in \u001b[0;36m<module>\u001b[1;34m\u001b[0m\n\u001b[1;32m----> 1\u001b[1;33m \u001b[0mstr\u001b[0m\u001b[1;33m(\u001b[0m\u001b[0my\u001b[0m\u001b[1;33m)\u001b[0m\u001b[1;33m+\u001b[0m\u001b[1;34m'/'\u001b[0m\u001b[1;33m+\u001b[0m\u001b[0mMounth\u001b[0m\u001b[1;33m+\u001b[0m\u001b[1;34m'/'\u001b[0m\u001b[1;33m+\u001b[0m\u001b[0mstr\u001b[0m\u001b[1;33m(\u001b[0m\u001b[0mDay\u001b[0m\u001b[1;33m)\u001b[0m\u001b[1;33m\u001b[0m\u001b[1;33m\u001b[0m\u001b[0m\n\u001b[0m",
      "\u001b[1;31mNameError\u001b[0m: name 'y' is not defined"
     ]
    }
   ],
   "source": [
    "str(y)+'/'+Mounth+'/'+str(Day)"
   ]
  },
  {
   "cell_type": "code",
   "execution_count": 33,
   "metadata": {},
   "outputs": [
    {
     "data": {
      "text/plain": [
       "datetime.date(2019, 9, 22)"
      ]
     },
     "execution_count": 33,
     "metadata": {},
     "output_type": "execute_result"
    }
   ],
   "source": [
    "Today - datetime.timedelta(days = 1)"
   ]
  },
  {
   "cell_type": "code",
   "execution_count": 32,
   "metadata": {},
   "outputs": [],
   "source": []
  },
  {
   "cell_type": "code",
   "execution_count": null,
   "metadata": {},
   "outputs": [],
   "source": []
  }
 ],
 "metadata": {
  "kernelspec": {
   "display_name": "Python 3",
   "language": "python",
   "name": "python3"
  },
  "language_info": {
   "codemirror_mode": {
    "name": "ipython",
    "version": 3
   },
   "file_extension": ".py",
   "mimetype": "text/x-python",
   "name": "python",
   "nbconvert_exporter": "python",
   "pygments_lexer": "ipython3",
   "version": "3.7.4"
  }
 },
 "nbformat": 4,
 "nbformat_minor": 2
}
